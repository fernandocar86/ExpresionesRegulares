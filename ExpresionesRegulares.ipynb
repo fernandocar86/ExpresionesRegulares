{
 "cells": [
  {
   "cell_type": "markdown",
   "id": "ad761288",
   "metadata": {},
   "source": [
    "# Expresiones Regulares\n",
    "\n",
    "\n",
    "\n"
   ]
  },
  {
   "cell_type": "code",
   "execution_count": null,
   "id": "cc8d7ef0",
   "metadata": {},
   "outputs": [],
   "source": [
    "import re \n",
    "# importa la librería re\n",
    "# Documentación de re: https://docs.python.org/3/library/re.html"
   ]
  },
  {
   "cell_type": "code",
   "execution_count": null,
   "id": "d5edf451",
   "metadata": {},
   "outputs": [],
   "source": [
    "# Fragmento de \"Una excursión a los indios ranqueles\" de Luis Mansilla\n",
    "corpus1 = \"\"\"\n",
    "No sé dónde te hallas, ni dónde te encontrará esta carta y las que le\n",
    "seguirán, si Dios me da vida y salud.\n",
    "\n",
    "Hace bastante tiempo que ignoro tu paradero, que nada sé de ti; y\n",
    "sólo porque el corazón me dice que vives, creo que continúas tu\n",
    "peregrinación por este mundo, y no pierdo la esperanza de comer\n",
    "contigo, á la sombra de un viejo y carcomido algarrobo, ó entre\n",
    "las pajas al borde de una laguna, ó en la costa de un arroyo, un\n",
    "_churrasco_ de guanaco, ó de gama, ó de yegua, ó de gato montés, ó una\n",
    "picana de avestruz, boleado por mí, que siempre me ha parecido la más\n",
    "sabrosa.\n",
    "\n",
    "Á propósito de avestruz, después de haber recorrido la Europa y la\n",
    "América, de haber vivido como un marqués en París y como un guaraní\n",
    "en el Paraguay; de haber comido _mazamorra_ en el Río de la Plata,\n",
    "_charquicán_ en Chile, ostras en Nueva York, _macarroni_ en Nápoles,\n",
    "trufas en el Perigord, _chipá_ en la Asunción--recuerdo que una de\n",
    "las grandes aspiraciones de tu vida era comer una tortilla de huevos\n",
    "de aquella ave pampeana en _Nagüel Mapo_, que quiere decir «Lugar del\n",
    "Tigre».\n",
    "\n",
    "Los gustos se simplifican con el tiempo, y un curioso fenómeno social\n",
    "se viene cumpliendo desde que el mundo es mundo. El _macrocosmo_, ó sea\n",
    "el hombre colectivo, vive inventando placeres, manjares, necesidades, y\n",
    "el _microcosmo_, ó sea el hombre individual, pugnando por emanciparse\n",
    "de las tiranías de la moda y de la civilización.\n",
    "\n",
    "Á los veinticinco años, somos víctimas de un sinnúmero de\n",
    "superfluidades. No tener guantes blancos, frescos como una lechuga,\n",
    "es una gran contrariedad, y puede ser causa de que el mancebo más\n",
    "cumplido pierda casamiento. ¡Cuántos dejaron de comer muchas veces, y\n",
    "sacrificaron su estómago en aras del buen tono!\n",
    "\n",
    "Á los cuarenta años, cuando el cierzo y el hielo del invierno de la\n",
    "vida han comenzado á marchitar la tez y á blanquear los cabellos, las\n",
    "necesidades crecen, y por un bote de _cold cream_, ó por un paquete de\n",
    "cosmético, ¿qué no se hace?\n",
    "\"\"\""
   ]
  },
  {
   "cell_type": "code",
   "execution_count": null,
   "id": "e4dc1923",
   "metadata": {},
   "outputs": [],
   "source": [
    "print(corpus1)"
   ]
  },
  {
   "cell_type": "markdown",
   "id": "79b7c549",
   "metadata": {},
   "source": [
    "## Excurso breve de funciones\n",
    "\n",
    "- Una función es una operación matemática que toma un objeto y devuelve otro.\n",
    "- Los objetos que toman las funciones se suelen clasificar en tipos. Por ejemplo, hay funciones que aplican a números (e.g., las operaciones aritméticas), funciones que aplican a cadenas (e.g., la operación de concatenación), funciones que aplican a conjuntos (e.g., unión, intersección, etc.). \n",
    "- Cada lenguaje de programación define su propia ontología de tipos. \n",
    "\n",
    "En el caso de Python, algunos de los tipos son los siguientes: \n",
    "- **Lista**: Se escribe entre corchetes\n",
    "- **Conjunto**: se escribe entre llaves\n",
    "- **entero (integer)**: Son los números enteros (no incluye los números con decimales).\n",
    "- **Cadena (string)**: Son las cadenas.\n",
    "\n",
    "Las librerías de Python nos proveen una serie de funciones. Es importante conocer qué es lo que toman como entrada y qué devuelven como salida.\n",
    "\n"
   ]
  },
  {
   "cell_type": "code",
   "execution_count": null,
   "id": "0da9f658",
   "metadata": {},
   "outputs": [],
   "source": [
    "def suma(n, m):\n",
    "    resultado = n + m\n",
    "    return resultado"
   ]
  },
  {
   "cell_type": "code",
   "execution_count": null,
   "id": "e89f54d4",
   "metadata": {},
   "outputs": [],
   "source": [
    "#suma(5,3)\n",
    "#suma(5,'d')\n",
    "#suma('d','a')"
   ]
  },
  {
   "cell_type": "markdown",
   "id": "5fbe5e28",
   "metadata": {},
   "source": [
    "## Findall\n",
    "\n",
    "Devuelve una lista con las ocurrencias que coincidan con la expresión regular"
   ]
  },
  {
   "cell_type": "code",
   "execution_count": null,
   "id": "51fe2fa6",
   "metadata": {},
   "outputs": [],
   "source": [
    "# a) Buscar todas las palabras que empiezan con mayúscula\n",
    "re.findall(r\"\", corpus1, flags=0)\n",
    "#mayus = re.findall(r\"\", corpus1, flags=0)\n",
    "#print(mayus)\n",
    "#type(mayus)"
   ]
  },
  {
   "cell_type": "code",
   "execution_count": null,
   "id": "61ec17a1",
   "metadata": {},
   "outputs": [],
   "source": [
    "# b) Buscar todas las palabras\n",
    "tokens = re.findall(r\"\", corpus1, flags=0)\n",
    "print(tokens)"
   ]
  },
  {
   "cell_type": "code",
   "execution_count": null,
   "id": "2eeb2653",
   "metadata": {},
   "outputs": [],
   "source": [
    "# Fragmento de balance de YPF 2023\n",
    "corpus2 = '''\n",
    "Durante 2023 la pérdida operativa del Grupo fue de US$ 1.248 millones, en comparación con la ganancia operativa de US$\n",
    "2.482 millones durante 2022 (una disminución de US$ 3.730 millones), explicada por: (i) menores ingresos (una disminución de US$\n",
    "1.446 millones o 7,7%) principalmente debido a menores ventas en el mercado externo de granos y harinas (88,7%) debido a\n",
    "menores volúmenes y precios, menores ventas en el mercado interno de gasoil (4,2%) debido a menores precios, y de fertilizantes\n",
    "(26,7%) principalmente debido a menores precios; (ii) mayores costos y gastos (un incremento de US$ 121 millones o 0,7%)\n",
    "principalmente debido a un aumento de los costos de producción por US$ 999 millones o 13,0% impulsado por el incremento\n",
    "generalizado de precios afectando los costos y gastos y mayores niveles de actividad (mayor producción de hidrocarburos y may ores\n",
    "niveles de procesamiento), mayores gastos de administración por US$ 48 millones o 7,3%, y una variación negativa de la variación\n",
    "de existencias de US$ 276 millones, compensados parcialmente por una disminución de las compras por US$ 1.106 millones o\n",
    "17,8%, menores gastos de comercialización por US$ 92 millones o 4,9%, y menores gastos de exploración por US$ 4 millones o\n",
    "6,2%; (iii) mayores cargos por deterioro de propiedades, planta y equipo por US$ 2.165 millones; y (iv) un mayor cargo positivo en\n",
    "otros resultados operativos, netos de US$ 2 millones o 1,3%.\n",
    "Los resultados financieros, netos del Grupo durante 2023 fueron una ganancia de $ 620.884 millones (US$ 897 millones), en\n",
    "comparación con la ganancia de $ 43.478 millones (US$ 128 millones) de 2022. Esta variación se debió principalmente a una mayor\n",
    "diferencia de cambio positiva originada por una mayor devaluación del peso observada durante 2023, acentuada en el cuarto\n",
    "trimestre, aplicada sobre una mayor posición pasiva monetaria neta en pesos del Grupo y mayores resultados positivos por cambios\n",
    "en el valor razonable de los activos financieros medidos a fair value; compensada parcialmente por mayores intereses perdidos\n",
    "sobre nuestra deuda. Véase Nota 28 a los estados financieros consolidados.\n",
    "El cargo por impuesto a las ganancias del Grupo correspondiente a 2023 fue una pérdida de $ 653.449 millones (US$ 1.020\n",
    "millones), en comparación con la pérdida de $ 108.912 millones (US$ 822 millones) correspondiente al mismo período de 2022.\n",
    "Véase Nota 17 a los estados financieros consolidados.\n",
    "En base a todo lo anterior, el resultado neto correspondiente a 2023 fue una pérdida de $ 1.532.745 millones (US$ 1.277\n",
    "millones), en comparación con una ganancia de $ 290.264 millones (US$ 2.234 millones) durante el mismo período de 2022\n",
    "'''"
   ]
  },
  {
   "cell_type": "code",
   "execution_count": null,
   "id": "80c4af46",
   "metadata": {},
   "outputs": [],
   "source": [
    "# c) Buscar todos los números\n",
    "num = re.findall(r'', corpus2)\n",
    "print(num)"
   ]
  },
  {
   "cell_type": "code",
   "execution_count": null,
   "id": "f75876cb",
   "metadata": {},
   "outputs": [],
   "source": [
    "# d) Buscar todos los porcentajes\n",
    "porc = re.findall(r'a%', corpus2)\n",
    "print(porc)"
   ]
  },
  {
   "cell_type": "markdown",
   "id": "3a653bf2",
   "metadata": {},
   "source": [
    "## Split\n",
    "\n",
    "Divide el texto usando la expresión como separador"
   ]
  },
  {
   "cell_type": "code",
   "execution_count": null,
   "id": "6abbccc6",
   "metadata": {},
   "outputs": [],
   "source": [
    "tokens = re.split(r\"\", corpus2, maxsplit=0, flags=0)\n",
    "print(tokens)"
   ]
  },
  {
   "cell_type": "markdown",
   "id": "a77f5846",
   "metadata": {},
   "source": [
    "## Search\n",
    "\n",
    "- Si una parte de la cadena coincide con la expresión devuelve el match\n",
    "- Si no, devuelve None.\n",
    "\n"
   ]
  },
  {
   "cell_type": "code",
   "execution_count": null,
   "id": "b9e2c691",
   "metadata": {},
   "outputs": [],
   "source": [
    "re.search(r\"\", corpus2)"
   ]
  },
  {
   "cell_type": "code",
   "execution_count": null,
   "id": "449a28ab",
   "metadata": {},
   "outputs": [],
   "source": [
    "re.compile(r\"\").search(corpus2, 10, 50)"
   ]
  },
  {
   "cell_type": "code",
   "execution_count": null,
   "id": "33ffa7e4",
   "metadata": {},
   "outputs": [],
   "source": [
    "for word in tokens:\n",
    "    if re.search(r\"\", word):\n",
    "        print(word)"
   ]
  },
  {
   "cell_type": "markdown",
   "id": "905b50aa",
   "metadata": {},
   "source": [
    "## Fullmatch\n",
    "\n",
    "- Si el corpus coincide con la expresión, devuelve el match\n",
    "- Si el corpus no coincide, devuelve None"
   ]
  },
  {
   "cell_type": "code",
   "execution_count": null,
   "id": "eca1652d",
   "metadata": {},
   "outputs": [],
   "source": [
    "corpus3 = 'Hola'"
   ]
  },
  {
   "cell_type": "code",
   "execution_count": null,
   "id": "361322e5",
   "metadata": {},
   "outputs": [],
   "source": [
    "re.fullmatch(r\"\", corpus3, flags=0)\n"
   ]
  },
  {
   "cell_type": "code",
   "execution_count": null,
   "id": "ed513c78",
   "metadata": {},
   "outputs": [],
   "source": [
    "for word in tokens:\n",
    "    if re.fullmatch(r\"\\d+\", word):\n",
    "        print(word)"
   ]
  },
  {
   "cell_type": "markdown",
   "id": "d1d5fee8",
   "metadata": {},
   "source": [
    "## Sub\n",
    "\n",
    "- Devuelve la cadena de entrada reemplazando"
   ]
  },
  {
   "cell_type": "code",
   "execution_count": null,
   "id": "77083298",
   "metadata": {},
   "outputs": [],
   "source": [
    "# Tuits \n",
    "corpus4 = \"\"\"\n",
    "@pocoPATO Facho, poné la bío entera. Abajo de acá. 😏💋\n",
    "================================\n",
    "@GabrielaDeloredda Pero si Vargas Llosa siempre ha Sido de derecha.\n",
    "================================\n",
    "@RonaBlanca00 @nickinic @SergioRovel2705 Beto se mermeleó a tarros llenos con la plata de los Wong y de Ratael por impulsar la candidatura de este facho\n",
    "================================\n",
    "Otro facho pobre de la secta reclamando jajaja y después dicen: voten por la Dere$ha \n",
    "🤣 #bonoclasemedia2021 \n",
    "#EstallidoChile2021 https://t.co/mbUXuuNg9p\n",
    "================================\n",
    "@amuchacha @MaxiPiedra95 15, algo normal para un adolescente que estudia en un colegio catolico-facho\n",
    "================================\n",
    "@cesamo35 @PartidoMorenaPtR cuando despertaste facho, las encuestas le dan más de 40 puntos contra menos de 20 de cada uno de tus podridos amores\n",
    "\"\"\""
   ]
  },
  {
   "cell_type": "code",
   "execution_count": null,
   "id": "6971aaa4",
   "metadata": {},
   "outputs": [],
   "source": [
    "# Borrar los usuarios\n",
    "sin_usrs = re.sub(r\"\", r\"\",corpus4, count=0, flags=0)\n",
    "print(sin_usrs)"
   ]
  },
  {
   "cell_type": "code",
   "execution_count": null,
   "id": "d418cdcb",
   "metadata": {},
   "outputs": [],
   "source": [
    "# Borrar las páginas de internet\n",
    "re.sub(r\"\", r\"\",corpus4, count=0, flags=0)"
   ]
  },
  {
   "cell_type": "code",
   "execution_count": null,
   "id": "52a31eb3",
   "metadata": {},
   "outputs": [],
   "source": [
    "sin_emoticones = ' '.join(re.sub(\"[\"\n",
    "        u\"\\U0001F600-\\U0001F64F\"  # emoticons\n",
    "        u\"\\U0001F300-\\U0001F5FF\"  # symbols & pictographs\n",
    "        u\"\\U0001F680-\\U0001F6FF\"  # transport & map symbols\n",
    "        u\"\\U0001F1E0-\\U0001F1FF\"  # flags (iOS)\n",
    "        u\"\\U00002500-\\U00002BEF\"  # chinese char\n",
    "        u\"\\U00002702-\\U000027B0\"\n",
    "        u\"\\U00002702-\\U000027B0\"\n",
    "        u\"\\U000024C2-\\U0001F251\"\n",
    "        u\"\\U0001f926-\\U0001f937\"\n",
    "        u\"\\U00010000-\\U0010ffff\"\n",
    "        u\"\\u2640-\\u2642\"\n",
    "        u\"\\u2600-\\u2B55\"\n",
    "        u\"\\u200d\" # family\n",
    "        u\"\\u23cf\" # eject\n",
    "        u\"\\u23e9\" # forward\n",
    "        u\"\\u231a\" # watch\n",
    "        u\"\\ufe0f\"  # dingbats\n",
    "        u\"\\u3030\"\n",
    "                           \"]+\", \"\", corpus4, flags=re.UNICODE).split()) # deletes emojis\n",
    "print(sin_emoticones)"
   ]
  },
  {
   "cell_type": "code",
   "execution_count": null,
   "id": "074ca89a",
   "metadata": {},
   "outputs": [],
   "source": [
    "corpus5 = 'AaAaAAaaaaAAA'"
   ]
  },
  {
   "cell_type": "code",
   "execution_count": null,
   "id": "e204cb60",
   "metadata": {},
   "outputs": [],
   "source": [
    "#Pasar a minúscula corpus 5\n",
    "\n",
    "lowered1 = re.sub(r\"\", r\"\",corpus5, count=0, flags=0)\n",
    "print(lowered1)"
   ]
  },
  {
   "cell_type": "code",
   "execution_count": null,
   "id": "93bffd31",
   "metadata": {},
   "outputs": [],
   "source": [
    "lowered2 = corpus5.lower()\n",
    "print(lowered2)"
   ]
  },
  {
   "cell_type": "code",
   "execution_count": null,
   "id": "affb3b10",
   "metadata": {},
   "outputs": [],
   "source": []
  }
 ],
 "metadata": {
  "kernelspec": {
   "display_name": "Python 3 (ipykernel)",
   "language": "python",
   "name": "python3"
  },
  "language_info": {
   "codemirror_mode": {
    "name": "ipython",
    "version": 3
   },
   "file_extension": ".py",
   "mimetype": "text/x-python",
   "name": "python",
   "nbconvert_exporter": "python",
   "pygments_lexer": "ipython3",
   "version": "3.8.10"
  }
 },
 "nbformat": 4,
 "nbformat_minor": 5
}
